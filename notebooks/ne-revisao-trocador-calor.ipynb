{
 "cells": [
  {
   "cell_type": "markdown",
   "id": "76573c1e-800c-44e7-bc8a-a2474a335fbe",
   "metadata": {
    "slideshow": {
     "slide_type": "slide"
    }
   },
   "source": [
    "# Nota de Estudo — Revisão de Trocadores de Calor\n",
    "\n",
    "> **Autor:** Fábio Magnani (fabio.magnani@ufpe.br)  \n",
    "> **Curso:** Engenharia Mecânica - UFPE  \n",
    "> **Início do desenvolvimento:** 29/08/2025  \n",
    "> **Primeira publicação:** 05/09/2025   \n",
    "> **Versão Atual:** v-2025-09-05-a (fase de teste técnico no Colab, teste didático-pedagógico com estudantes e início da revisão final de código/texto)\n",
    "\n",
    "---\n",
    "\n",
    "## Objetivo\n",
    "Revisar o modelo matemático para trocadores de calor, de forma direta e aplicada.\n",
    "\n",
    "## Estrutura \n",
    "- Equações dos Trocadores de Calor\n",
    "- Coeficiente global de transferência de calor, propriedades dos fluidos e dos sólidos  \n",
    "- Dedução da temperatura média logarítmica  \n",
    "- Caso A - Fluxo contra-corrente (análise: UA e temperaturas de entrada conhecidos; temperatura de saida desconhecida)   \n",
    "- Caso B - Fluxo contra-corrente (projeto: temperaturas de entrada e de saída conhecids; UA desconhecido)   \n",
    "- Caso C - Levando os parâmetros ao limite   \n",
    "- Caso C - Fluxo paralelo\n",
    "- Caso D - Efetividade-NUT ($\\epsilon$-NUT)   \n",
    "- Caso E - Um dos lados com temperatura constante (mudança de fase)   \n",
    "- Caso F - Os dois lados com temperatura constante (mudança de fase)\n",
    "- Caso G - Um dos lados com um trecho com temperatura variável e outro com temperatura constante\n",
    "- Considerações finais\n",
    "\n",
    "## Hipóteses Simplificativas\n",
    "O modelo matemático desenvolvido nesta nota de estudo usa as seguintes hipóteses:\n",
    "- Regime permanente\n",
    "- Não há troca de calor para fora do trocador, apenas entre os dois escoamentos\n",
    "- O coeficiente global de transferência de calor, $U$, é constante\n",
    "- O calor específico dos dois fluidos é constante, o que permite usar a relação $\\Delta h = c_p \\Delta T$.\n",
    "Vale a pena observar que vale, inclusive, o caso em que $c_p = \\infty$ (*i.e.*, caso em que há mudança de fase, no qual\n",
    "há variação da energia, $\\Delta h$, sem variação da temperatura, $\\Delta T$).\n",
    "\n",
    "## Observação\n",
    "Para detalhes específicos, particularmente para os coeficientes de transferência de calor, o estudante deve procurar as referências.\n",
    "\n",
    "## Referências\n",
    "- Incropera, F. P., Bergman, T. L., Lavine, A. S., *Fundamentos de Transferência de Calor e de Massa*, capítulo 11, 8ª ed., LTC, 2019. \n",
    "- Stoecker, W. F. *Design of Thermal Systems*, capítulo 5, 3rd ed., McGraw-Hill, 1989.\n",
    "\n",
    "## Notação\n"
   ]
  },
  {
   "cell_type": "markdown",
   "id": "27275fae-3aef-4903-a268-c3cbf3491c03",
   "metadata": {
    "slideshow": {
     "slide_type": "slide"
    }
   },
   "source": [
    "## Equações dos Trocadores de Calor\n",
    "\n",
    "Um trocador de calor convencional pode ser representado pela figura 1, onde se vê dois escoamentos ($h$ quente; $c$ frio)\n",
    "entrando no trocador. Esses escoamentos não são misturados, sendo que a única interação entre eles é o resfriamento do quente\n",
    "e o aquecimento do frio, através da uma transferência de calor atravé da parede sólida que separa os dois escoamentos.\n",
    "\n",
    "<figure style=\"margin: 0 0 1.25rem 0; text-align:center;\">\n",
    "  <img src=\"../figures/ne-trocador-calor-fig-01.png\"\n",
    "       alt=\"Trocador de Calor de Fluxo em Contra-Corrente\"\n",
    "       width=\"600\" style=\"display:block; margin:0 auto; max-width:100%;\">\n",
    "  <figcaption><b>Figura 1.</b> Trocador de calor com escoamento em contracorrente.</figcaption>\n",
    "</figure>\n",
    "\n",
    "Outra configuração possível é mostrado na figura 2, onde cada fluido entra de um lado do trocador (trocador com escoamento\n",
    "em paralelo). Vamos discutir as consequências disso mais para a frente. Do ponto de vista das equações, neste momento, \n",
    "isso não é importante. Outras configurações de trocadores podem ser encontradas e discutidas nas referências.\n",
    "\n",
    "<figure style=\"margin: 0 0 1.25rem 0; text-align:center;\">\n",
    "  <img src=\"../figures/ne-trocador-calor-fig-02.png\"\n",
    "       alt=\"Trocador de Calor de Fluxo em Escoamento Paralelo\"\n",
    "       width=\"600\" style=\"display:block; margin:0 auto; max-width:100%;\">\n",
    "  <figcaption><b>Figura 2.</b> Trocador de calor com escoamento paralelo.</figcaption>\n",
    "</figure>   \n",
    "\n",
    "\n",
    "Basicamente, os trocadores de calor têm três equações:\n",
    "- Primeira Lei do lado quente: $\\dot Q = \\dot m_h c_{p,h}(T_{h,1}-T_{h,2}) \\equiv C_h(T_{h,1}-T_{h,2})$  \n",
    "- Primeira Lei d lado frio: $\\dot Q = \\dot m_c c_{p,c}(T_{c,2}-T_{c,1}) \\equiv C_c(T_{c,2}-T_{c,1})$  \n",
    "- Equação do trocador de calor: $\\dot Q = U A \\,\\Delta T_{lm}$, com $\\Delta T_{lm} = (\\Delta T_1-\\Delta T_2)/\\ln(\\Delta T_1/\\Delta T_2)$.\n",
    "\n",
    "Observação: se $T_{c,1}$ é a entrada ou a saída do lado frio, depende se o trocador é em fluxo contradorrente (Fig. 1)\n",
    "ou paralelo (Fig. 2). O que importa lembrar é que **1** nesse caso significa que é a parte do lado\n",
    "frio que fica junto à entrada do lado quente.                        \n"
   ]
  },
  {
   "cell_type": "markdown",
   "id": "0306791c-6487-4509-8525-7e04bbb5f178",
   "metadata": {},
   "source": [
    "## Coeficiente global $U$ (resistências em série, tubo-duplo)\n",
    "\n",
    "Resistência total (K/W):  \n",
    "$R_{tot} = \\dfrac{1}{h_i A_i} + \\dfrac{R''_{f,i}}{A_i} + \\dfrac{\\ln(D_o/D_i)}{2\\pi L k_w} + \\dfrac{R''_{f,o}}{A_o} + \\dfrac{1}{h_o A_o}$.  \n",
    "Então $UA = 1/R_{tot}$.\n",
    "\n",
    "<figure style=\"margin: 0 0 1.25rem 0; text-align:center;\">\n",
    "  <img src=\"../figures/ne-trocador-calor-fig-04.png\"\n",
    "       alt=\"Transferência de calor entre o lado quente e o lado frio\"\n",
    "       width=\"480\" style=\"display:block; margin:0 auto; max-width:100%;\">\n",
    "  <figcaption><b>Figura 3.</b> Transferência de calor entre o lado quente e o lado frio.</figcaption>\n",
    "</figure> \n",
    "                                       \n",
    "- Parede cilíndrica: $A_i=\\pi D_i L$, $A_o=\\pi D_o L$.  \n",
    "- Fatores de incrustação típicos: $R''_{f} \\approx 2\\times10^{-4}$ a $4\\times10^{-4}$ m²K/W (água tratada).  \n",
    "- Eficiências de aleta $\\eta_i,\\eta_o=1$ aqui (sem aletas).\n",
    "\n",
    "**Correlação para $h$ (exemplo): Dittus–Boelter (turbulento interno)**  \n",
    "$Nu = 0.023\\,Re^{0.8}\\,Pr^n$, com $n=0.4$ para aquecimento do fluido e $n=0.3$ para resfriamento.  \n",
    "$h = Nu\\,k/L_c$ (use $L_c=D$ em dutos; no anular, $D_h = D_s-D_o$).\n",
    "\n",
    "Escalonamento: $h \\propto \\rho^{0.8} \\dot m^{0.8} \\mu^{-0.8} k\\,Pr^n$ via $Re = \\rho v D/\\mu$ e $v = \\dot m/(\\rho A)$. Logo, $q \\sim UA\\Delta T_{lm}$ cresce fortemente com vazão e com condutividade do fluido.\n"
   ]
  },
  {
   "cell_type": "markdown",
   "id": "2f552eb8-1cc5-431f-8e7a-75fe89bfcd8f",
   "metadata": {
    "slideshow": {
     "slide_type": "slide"
    }
   },
   "source": [
    "## Dedução da Temperatura Média Logarítmica (TML)\n",
    "\n",
    "**Elemento diferencial dA**  \n",
    "- Diferença local: $\\Delta T = T_h - T_c$.  \n",
    "- Balanços: $dq = -C_h\\,dT_h = C_c\\,dT_c = U\\,\\Delta T\\,dA$.\n",
    "\n",
    "<figure style=\"margin: 0 0 1.25rem 0; text-align:center;\">\n",
    "  <img src=\"../figures/ne-trocador-calor-fig-03.png\"\n",
    "       alt=\"Balanço de energia em um elemento infinitesimal\"\n",
    "       width=\"480\" style=\"display:block; margin:0 auto; max-width:100%;\">\n",
    "  <figcaption><b>Figura 4.</b> Balanço de energia em um elemento infinitesimal.</figcaption>\n",
    "</figure>   \n",
    "\n",
    "**Equação diferencial**  \n",
    "Da definição, $d(\\Delta T) = dT_h - dT_c = -\\,dq\\left(\\tfrac{1}{C_h}+\\tfrac{1}{C_c}\\right)$.  \n",
    "Com $dq = U\\,\\Delta T\\,dA$: $\\; d(\\Delta T)/\\Delta T = -\\,U\\left(\\tfrac{1}{C_h}+\\tfrac{1}{C_c}\\right)dA$.\n",
    "\n",
    "**Integração em A**  \n",
    "$\\ln(\\Delta T_2/\\Delta T_1) = -\\,U A\\left(\\tfrac{1}{C_h}+\\tfrac{1}{C_c}\\right)$.  \n",
    "Integrando $dq = U\\,\\Delta T\\,dA$:  \n",
    "$q = U\\int_0^A \\Delta T\\,dA = U A\\,(\\Delta T_1-\\Delta T_2)/\\ln(\\Delta T_1/\\Delta T_2) \\equiv U A\\,\\Delta T_{lm}$.\n",
    "\n",
    "**Observações**\n",
    "- Se $\\Delta T_1=\\Delta T_2$, então $\\Delta T_{lm}=\\Delta T$.  \n",
    "- Em mudança de fase com $T$ constante, use $\\Delta T_1 = T_{sat}-T_{c,2}$ e $\\Delta T_2 = T_{sat}-T_{c,1}$ (ou análogas para o frio saturado).\n"
   ]
  },
  {
   "cell_type": "code",
   "execution_count": 2,
   "id": "659e8b6e",
   "metadata": {},
   "outputs": [],
   "source": [
    "## Imports e convenções\n",
    "import numpy as np\n",
    "import matplotlib.pyplot as plt\n",
    "np.set_printoptions(precision=4, suppress=True)"
   ]
  },
  {
   "cell_type": "markdown",
   "id": "235329c5",
   "metadata": {},
   "source": [
    "## Exemplo 1 — Análise contracorrente com $U$ por correlação\n",
    "\n",
    "**Meta:** calcular $U$ a partir de correlações (Dittus–Boelter) num trocador tubo-duplo água–água; depois obter $q$, $T_{h,2}$ e $T_{c,2}$ usando a solução fechada da TML (sem discretização).\n",
    "\n",
    "**Geometria e materiais (hipóteses explícitas):**\n",
    "- Tubo interno de cobre ($k_w \\approx 385$ W/(m·K)), $D_i = 0.020$ m, $D_o = 0.024$ m, $L = 5$ m.  \n",
    "- Anular formado por tubo externo de aço carbono (parede fina para condução, adotamos apenas $k_w$ do tubo interno na resistência), diâmetro interno do anular $D_s = 0.040$ m.  \n",
    "- Sem aletas; incrustações $R''_{f,i}=R''_{f,o}=2.0\\times10^{-4}$ m²K/W.\n",
    "\n",
    "**Propriedades (água, valores típicos):**\n",
    "- Lado quente (média de filme próxima de 60 °C): $\\rho_h=983$ kg/m³, $\\mu_h=4.66\\times10^{-4}$ Pa·s, $k_h=0.654$ W/(m·K), $c_{p,h}=4180$ J/(kg·K), $Pr_h \\approx 3.6$.  \n",
    "- Lado frio (média de filme ~ 25–30 °C): $\\rho_c=996$ kg/m³, $\\mu_c=8.0\\times10^{-4}$ Pa·s, $k_c=0.613$ W/(m·K), $c_{p,c}=4180$ J/(kg·K), $Pr_c \\approx 5.4$.\n",
    "\n",
    "**Condições de entrada:** $\\\\dot m_h=1.20$ kg/s a $T_{h,1}=80$ °C (no tubo), $\\\\dot m_c=1.00$ kg/s a $T_{c,1}=20$ °C (no anular). Contracorrente.\n",
    "\n",
    "**Fechado (TML):** com $kA = UA(1/C_h+1/C_c)$ e $\\Delta T_{in} = T_{h,1}-T_{c,1}$, define-se  \n",
    "$M = \\dfrac{C_h C_c}{C_h+C_c}\\,(1-e^{-kA})$. Então o calor total é\n",
    "$$q = \\frac{M}{1+M/C_c}\\,\\Delta T_{in}$$\n",
    "e, em seguida, $T_{h,2} = T_{h,1}-q/C_h$, $T_{c,2}=T_{c,1}+q/C_c$, $\\Delta T_{lm}$ segue da definição.\n"
   ]
  },
  {
   "cell_type": "code",
   "execution_count": 3,
   "id": "ecba162c",
   "metadata": {},
   "outputs": [
    {
     "name": "stdout",
     "output_type": "stream",
     "text": [
      "h_i = 18,643.9 W/m^2.K,  h_o = 5,682.5 W/m^2.K,  UA = 549.5 W/K\n",
      "Re_h = 163,936, Re_c = 24,868\n",
      "q = 26,234.4 W  |  Th2 = 74.77 °C  |  Tc2 = 26.28 °C  |  ΔT_lm = 54.25 K\n"
     ]
    }
   ],
   "source": [
    "# (b) Código — U via Dittus–Boelter e solução fechada (contracorrente)\n",
    "\n",
    "# Geometria e materiais\n",
    "Di = 0.020   # m\n",
    "Do = 0.024   # m\n",
    "Ds = 0.040   # m (anel externo)\n",
    "L  = 5.0     # m\n",
    "k_wall = 385.0  # W/m.K (cobre)\n",
    "Rf_i = 2.0e-4   # m^2 K/W\n",
    "Rf_o = 2.0e-4   # m^2 K/W\n",
    "\n",
    "Ai = np.pi*Di*L\n",
    "Ao = np.pi*Do*L\n",
    "Dh_ann = Ds - Do   # diâmetro hidráulico do anular\n",
    "\n",
    "# Vazões e entradas\n",
    "mh, mc = 1.20, 1.00      # kg/s\n",
    "Th1, Tc1 = 80.0, 20.0    # °C\n",
    "\n",
    "# Propriedades (água típica)\n",
    "rho_h, mu_h, k_h, cph, Pr_h = 983.0, 4.66e-4, 0.654, 4180.0, 3.6\n",
    "rho_c, mu_c, k_c, cpc, Pr_c = 996.0, 8.00e-4, 0.613, 4180.0, 5.4\n",
    "\n",
    "# Áreas de escoamento\n",
    "A_tube = np.pi*(Di**2)/4.0\n",
    "A_ann  = np.pi*(Ds**2 - Do**2)/4.0\n",
    "\n",
    "# Velocidades médias\n",
    "vh = mh/(rho_h*A_tube)\n",
    "vc = mc/(rho_c*A_ann)\n",
    "\n",
    "# Reynolds\n",
    "Re_h = rho_h*vh*Di/mu_h\n",
    "Re_c = rho_c*vc*Dh_ann/mu_c\n",
    "\n",
    "# Dittus–Boelter\n",
    "Nu_h = 0.023*(Re_h**0.8)*(Pr_h**0.4)\n",
    "Nu_c = 0.023*(Re_c**0.8)*(Pr_c**0.4)\n",
    "\n",
    "h_i = Nu_h*k_h/Di\n",
    "h_o = Nu_c*k_c/Dh_ann\n",
    "\n",
    "# Resistência total (K/W)\n",
    "R_tot = (1.0/(h_i*Ai)) + (Rf_i/Ai) + np.log(Do/Di)/(2.0*np.pi*L*k_wall) + (Rf_o/Ao) + (1.0/(h_o*Ao))\n",
    "\n",
    "UA = 1.0/R_tot\n",
    "\n",
    "# Solução fechada (contracorrente)\n",
    "Ch = mh*cph\n",
    "Cc = mc*cpc\n",
    "kA = UA*(1.0/Ch + 1.0/Cc)\n",
    "DeltaTin = Th1 - Tc1\n",
    "M = (Ch*Cc/(Ch+Cc))*(1.0 - np.exp(-kA))\n",
    "q = (M/(1.0 + M/Cc))*DeltaTin\n",
    "Th2 = Th1 - q/Ch\n",
    "Tc2 = Tc1 + q/Cc\n",
    "\n",
    "# LMTD\n",
    "DT1 = Th1 - Tc2\n",
    "DT2 = Th2 - Tc1\n",
    "DTlm = (DT1 - DT2)/np.log(DT1/DT2)\n",
    "\n",
    "print(f\"h_i = {h_i:,.1f} W/m^2.K,  h_o = {h_o:,.1f} W/m^2.K,  UA = {UA:,.1f} W/K\")\n",
    "print(f\"Re_h = {Re_h:,.0f}, Re_c = {Re_c:,.0f}\")\n",
    "print(f\"q = {q:,.1f} W  |  Th2 = {Th2:.2f} °C  |  Tc2 = {Tc2:.2f} °C  |  ΔT_lm = {DTlm:.2f} K\")\n"
   ]
  },
  {
   "cell_type": "markdown",
   "id": "b7043ae5",
   "metadata": {},
   "source": [
    "### (c) Análise física (numérica e escalonamento)\n",
    "\n",
    "- Com os números atuais (água–água), $Re_h$ e $Re_c$ estão em regime turbulento, validando Dittus–Boelter.  \n",
    "- $h_i$ e $h_o$ da ordem de $10^3$ W/(m²·K) resultam em $UA$ na ordem de $10^3$ W/K para $L=5$ m.  \n",
    "- Resistência de parede em cobre é pequena; se trocássemos para aço carbono ($k_w \\approx 50$ W/(m·K)), $UA$ cairia perceptivelmente.  \n",
    "- Escalonamento: como $Nu\\\\sim Re^{0.8}Pr^n$, então $h\\\\sim \\\\dot m^{0.8}$; duplicar a vazão do lado limitante aproxima $q$ de $C_{min}(T_{h,1}-T_{c,1})$.  \n",
    "- A TML produz $q = UA\\,\\Delta T_{lm}$, coerente com as saídas $T_{h,2}$ e $T_{c,2}$ encontradas pela solução fechada.\n"
   ]
  },
  {
   "cell_type": "markdown",
   "id": "d4c913be",
   "metadata": {},
   "source": [
    "## Exemplo 2 — Projeto: determinar $UA$ para um $q$ desejado (contracorrente)\n",
    "\n",
    "Dados $q_{des}$, $C_h$, $C_c$, $T_{h,1}$ e $T_{c,1}$. A partir da solução fechada, com $kA = UA(1/C_h+1/C_c)$ e $M = (C_h C_c/(C_h+C_c))(1-e^{-kA})$, tem-se\n",
    "$q = \\frac{M}{1+M/C_c}\\,\\Delta T_{in}$, onde $\\Delta T_{in}=T_{h,1}-T_{c,1}$.  \n",
    "Isolando $e^{-kA}$ obtém-se uma forma direta para $UA$ (sem iteração)."
   ]
  },
  {
   "cell_type": "code",
   "execution_count": 4,
   "id": "f64201c1",
   "metadata": {},
   "outputs": [
    {
     "name": "stdout",
     "output_type": "stream",
     "text": [
      "UA requerido ≈ 4,461.7 W/K  (kA = 1.957)\n"
     ]
    }
   ],
   "source": [
    "# (b) Código — UA a partir de q_des (forma fechada)\n",
    "\n",
    "# Entradas\n",
    "mh, mc = 1.20, 1.00\n",
    "cph, cpc = 4180.0, 4180.0\n",
    "Th1, Tc1 = 80.0, 20.0\n",
    "q_des = 80_000.0  # W\n",
    "\n",
    "Ch, Cc = mh*cph, mc*cpc\n",
    "DeltaTin = Th1 - Tc1\n",
    "alpha = (Ch*Cc)/(Ch+Cc)\n",
    "s = q_des/DeltaTin  # W/K (fluxo térmico por K de ΔT_in)\n",
    "\n",
    "# Forma fechada: y = 1 - exp(-kA)\n",
    "y = s/(alpha*(1 - s/Cc))\n",
    "kA = -np.log(1 - y)\n",
    "UA = kA/(1.0/Ch + 1.0/Cc)\n",
    "\n",
    "print(f\"UA requerido ≈ {UA:,.1f} W/K  (kA = {kA:.3f})\")\n"
   ]
  },
  {
   "cell_type": "markdown",
   "id": "cb54cb6b",
   "metadata": {},
   "source": [
    "### (c) Análise física\n",
    "- Para $q_{des}$ fixo, $UA$ cresce quando $C_{min}$ é pequeno (trocador precisa compensar com área/coeficientes maiores).  \n",
    "- A expressão fechada exige $q_{des} < C_c\\,\\Delta T_{in}$ (limite de capacidade); caso contrário, não há solução física.\n"
   ]
  },
  {
   "cell_type": "markdown",
   "id": "3c4523e0",
   "metadata": {},
   "source": [
    "## Exemplo 3 — Aproximação ao pinch (contracorrente)\n",
    "\n",
    "Usamos o mesmo $UA$ do Ex. 1 mas reduzimos a diferença de entrada para aproximar $\\Delta T_{min}\\to 0$.\n"
   ]
  },
  {
   "cell_type": "code",
   "execution_count": 5,
   "id": "0c909b15",
   "metadata": {},
   "outputs": [
    {
     "name": "stdout",
     "output_type": "stream",
     "text": [
      "q ≈ 1,242.4 W | Th2 = 59.67 °C | Tc2 = 50.50 °C | ΔT1 = 9.505 K | ΔT2 = 9.670 K | ΔT_min = 9.505 K\n"
     ]
    }
   ],
   "source": [
    "# (b) Código — ΔT_min e verificação de viabilidade (fechado)\n",
    "\n",
    "UA = 1.0/((1.0/(1000* (np.pi*0.020*5))) + (2.0e-4/(np.pi*0.020*5)) + np.log(0.024/0.020)/(2*np.pi*5*385) + (2.0e-4/(np.pi*0.024*5)) + (1.0/(900* (np.pi*0.024*5))))\n",
    "\n",
    "mh, mc = 0.9, 0.6\n",
    "cph, cpc = 4180.0, 4180.0\n",
    "Th1, Tc1 = 60.0, 50.0\n",
    "\n",
    "Ch, Cc = mh*cph, mc*cpc\n",
    "kA = UA*(1.0/Ch + 1.0/Cc)\n",
    "DeltaTin = Th1 - Tc1\n",
    "M = (Ch*Cc/(Ch+Cc))*(1.0 - np.exp(-kA))\n",
    "q = (M/(1.0 + M/Cc))*DeltaTin\n",
    "Th2 = Th1 - q/Ch\n",
    "Tc2 = Tc1 + q/Cc\n",
    "\n",
    "DT1 = Th1 - Tc2\n",
    "DT2 = Th2 - Tc1\n",
    "DTmin = min(DT1, DT2)\n",
    "\n",
    "print(f\"q ≈ {q:,.1f} W | Th2 = {Th2:.2f} °C | Tc2 = {Tc2:.2f} °C | ΔT1 = {DT1:.3f} K | ΔT2 = {DT2:.3f} K | ΔT_min = {DTmin:.3f} K\")\n"
   ]
  },
  {
   "cell_type": "markdown",
   "id": "62438b50",
   "metadata": {},
   "source": [
    "### (c) Análise física\n",
    "- À medida que $\\Delta T_{min}\\to 0$, a necessidade de $UA$ explode para manter o mesmo $q$.  \n",
    "- Em projeto real, impõe-se uma margem mínima de temperatura (por exemplo 5–10 K) para robustez operacional.\n"
   ]
  },
  {
   "cell_type": "markdown",
   "id": "4bbf707a",
   "metadata": {},
   "source": [
    "## Exemplo 4 — Um lado em mudança de fase (quente a $T_{sat}$ constante)\n",
    "\n",
    "Com o quente a $T_{sat}$ constante (condensação), a solução diferencial dá diretamente  \n",
    "$T_{c,2} = T_{sat} - (T_{sat}-T_{c,1})\\,e^{-UA/C_c}$ e $q = C_c(T_{c,2}-T_{c,1})$.\n"
   ]
  },
  {
   "cell_type": "code",
   "execution_count": 6,
   "id": "03596c53",
   "metadata": {},
   "outputs": [
    {
     "name": "stdout",
     "output_type": "stream",
     "text": [
      "q ≈ 51,859.9 W | Tc2 ≈ 30.34 °C | ΔT_lm = 34.57 K\n"
     ]
    }
   ],
   "source": [
    "# (b) Código — Lado quente a Tsat constante (fechado)\n",
    "UA = 1500.0\n",
    "T_sat = 60.0\n",
    "mc, cpc = 1.2, 4180.0\n",
    "Tc1 = 20.0\n",
    "Cc = mc*cpc\n",
    "\n",
    "Tc2 = T_sat - (T_sat - Tc1)*np.exp(-UA/Cc)\n",
    "q = Cc*(Tc2 - Tc1)\n",
    "\n",
    "DT1 = T_sat - Tc2\n",
    "DT2 = T_sat - Tc1\n",
    "DTlm = (DT1 - DT2)/np.log(DT1/DT2)\n",
    "\n",
    "print(f\"q ≈ {q:,.1f} W | Tc2 ≈ {Tc2:.2f} °C | ΔT_lm = {DTlm:.2f} K\")\n"
   ]
  },
  {
   "cell_type": "markdown",
   "id": "5ce01481",
   "metadata": {},
   "source": [
    "### (c) Análise física\n",
    "- Quando $UA/C_c$ é grande, $e^{-UA/C_c}\\to 0$ e $T_{c,2}\\to T_{sat}$ (limite ideal).  \n",
    "- O cálculo volta a ser puramente logarítmico para a TML, com $\\Delta T_1 = T_{sat}-T_{c,2}$ e $\\Delta T_2 = T_{sat}-T_{c,1}$.\n"
   ]
  },
  {
   "cell_type": "markdown",
   "id": "828a4558",
   "metadata": {},
   "source": [
    "## Exemplo 5 — Ambos os lados mudam de fase (ΔT constante)\n",
    "\n",
    "Se as duas correntes estão a temperaturas constantes, $\\Delta T$ é constante e $q = UA\\,\\Delta T$.\n"
   ]
  },
  {
   "cell_type": "code",
   "execution_count": 7,
   "id": "66188afd",
   "metadata": {},
   "outputs": [
    {
     "name": "stdout",
     "output_type": "stream",
     "text": [
      "ΔT = 70.00 K | q = 70,000.0 W\n"
     ]
    }
   ],
   "source": [
    "# (b) Código — Dupla mudança de fase\n",
    "UA = 1000.0\n",
    "Th = 110.0\n",
    "Tc = 40.0\n",
    "q = UA*(Th - Tc)\n",
    "print(f\"ΔT = {Th-Tc:.2f} K | q = {q:,.1f} W\")\n"
   ]
  },
  {
   "cell_type": "markdown",
   "id": "b34f495a",
   "metadata": {},
   "source": [
    "### (c) Análise física\n",
    "- É o caso mais simples via TML, pois $\\Delta T_{lm}=\\Delta T$.  \n",
    "- Limitações passam a ser de área disponível e níveis de pressão.\n"
   ]
  },
  {
   "cell_type": "markdown",
   "id": "af81a3fd",
   "metadata": {},
   "source": [
    "## Exemplo 6 — Condensador real: seção sensível + seção latente\n",
    "\n",
    "Quando o quente entra superaquecido e sai condensado, separam-se duas regiões:  \n",
    "1) Sensível: $T_h$ cai de $T_{h,1}$ até $T_{sat}$; 2) Latente: condensação a $T_{sat}$.  \n",
    "Modelamos como dois trocadores em série, com $UA_s$ e $UA_l$ atribuídos.\n"
   ]
  },
  {
   "cell_type": "code",
   "execution_count": 8,
   "id": "acec943c",
   "metadata": {},
   "outputs": [
    {
     "name": "stdout",
     "output_type": "stream",
     "text": [
      "q_need (até T_sat) = 125,400 W | q_s (com UA_s) = 53,161 W | Th2_s = 107.3 °C\n",
      "Seção latente: q_l = 54,519 W | Tc2 = 45.8 °C | q_total = 107,680 W\n"
     ]
    }
   ],
   "source": [
    "# (b) Código — Duas seções (sem iteração; verifica compatibilidade de UA)\n",
    "# Dados gerais\n",
    "mh, mc = 1.0, 1.0\n",
    "cph, cpc = 4180.0, 4180.0\n",
    "Ch, Cc = mh*cph, mc*cpc\n",
    "\n",
    "Th1, T_sat, Tc1 = 120.0, 90.0, 20.0\n",
    "\n",
    "UA_total = 1800.0\n",
    "frac_s = 0.4\n",
    "UA_s = UA_total*frac_s\n",
    "UA_l = UA_total*(1-frac_s)\n",
    "\n",
    "# Seção sensível (contracorrente fechado com UA_s e saída quente fixada em T_sat)\n",
    "# Energia exigida para resfriar quente até T_sat:\n",
    "q_need = Ch*(Th1 - T_sat)\n",
    "# Resultado via TML fechado com UA_s:\n",
    "DeltaTin_s = Th1 - Tc1\n",
    "kA_s = UA_s*(1.0/Ch + 1.0/Cc)\n",
    "M_s = (Ch*Cc/(Ch+Cc))*(1.0 - np.exp(-kA_s))\n",
    "q_s = (M_s/(1.0 + M_s/Cc))*DeltaTin_s\n",
    "Th2_s = Th1 - q_s/Ch\n",
    "Tc2_s = Tc1 + q_s/Cc  # entrada fria para a seção latente\n",
    "\n",
    "# Seção latente (quente constante a T_sat) com UA_l\n",
    "Tc2 = T_sat - (T_sat - Tc2_s)*np.exp(-UA_l/Cc)\n",
    "q_l = Cc*(Tc2 - Tc2_s)\n",
    "\n",
    "q_tot = q_s + q_l\n",
    "print(f\"q_need (até T_sat) = {q_need:,.0f} W | q_s (com UA_s) = {q_s:,.0f} W | Th2_s = {Th2_s:.1f} °C\")\n",
    "print(f\"Seção latente: q_l = {q_l:,.0f} W | Tc2 = {Tc2:.1f} °C | q_total = {q_tot:,.0f} W\")\n"
   ]
  },
  {
   "cell_type": "markdown",
   "id": "a6c96e16",
   "metadata": {},
   "source": [
    "### (c) Análise física\n",
    "- Se $q_s < C_h(T_{h,1}-T_{sat})$, a área alocada à seção sensível é insuficiente; redistribua $UA$ entre as seções.  \n",
    "- A divisão em duas regiões evita recorrer a $c_p$ efetivo e mantém o modelo transparente.\n"
   ]
  },
  {
   "cell_type": "markdown",
   "id": "766adc98",
   "metadata": {},
   "source": [
    "## Exemplo 7 — Paralelo e comparação com contracorrente (fechado)\n",
    "\n",
    "Para paralelo, com $\\Delta T_1 = T_{h,1}-T_{c,1}$ conhecido na entrada, a solução fechada dá  \n",
    "$q_{par} = \\dfrac{C_h C_c}{C_h+C_c}\\,(1-e^{-kA})\\,\\Delta T_1$ e perfis exponenciais análogos.\n"
   ]
  },
  {
   "cell_type": "code",
   "execution_count": 9,
   "id": "c101e625",
   "metadata": {},
   "outputs": [
    {
     "name": "stdout",
     "output_type": "stream",
     "text": [
      "q_contracorrente ≈ 45,766.1 W  |  q_paralelo ≈ 55,981.6 W\n"
     ]
    }
   ],
   "source": [
    "# (b) Código — q_paralelo e comparação com q_contracorrente (mesmo UA)\n",
    "\n",
    "UA = 1200.0\n",
    "mh, mc = 1.20, 1.00\n",
    "cph, cpc = 4180.0, 4180.0\n",
    "Th1, Tc1 = 80.0, 20.0\n",
    "\n",
    "Ch, Cc = mh*cph, mc*cpc\n",
    "kA = UA*(1.0/Ch + 1.0/Cc)\n",
    "DeltaT1_par = Th1 - Tc1\n",
    "alpha = (Ch*Cc)/(Ch+Cc)\n",
    "\n",
    "q_par = alpha*(1.0 - np.exp(-kA))*DeltaT1_par\n",
    "\n",
    "# Contracorrente com a expressão fechada já usada\n",
    "M = alpha*(1.0 - np.exp(-kA))\n",
    "q_contra = (M/(1.0 + M/Cc))*DeltaT1_par\n",
    "\n",
    "print(f\"q_contracorrente ≈ {q_contra:,.1f} W  |  q_paralelo ≈ {q_par:,.1f} W\")\n"
   ]
  },
  {
   "cell_type": "markdown",
   "id": "5b7b7063",
   "metadata": {},
   "source": [
    "### (c) Análise física\n",
    "- Para $UA$ e entradas idênticas, contracorrente produz $q$ maior que paralelo, pois mantém $\\Delta T$ mais alto ao longo do comprimento.  \n",
    "- A diferença diminui quando $C_h \\gg C_c$ ou vice-versa (efeito capacidade domina).\n"
   ]
  },
  {
   "cell_type": "markdown",
   "id": "872fa278",
   "metadata": {
    "slideshow": {
     "slide_type": "slide"
    }
   },
   "source": [
    "## Fechamento\n",
    "\n",
    "**Resumo**  \n",
    "- A TML decorre de uma queda exponencial de $\\Delta T$ no espaço de área, levando a expressões fechadas úteis para análise e projeto.  \n",
    "- $U$ por correlações (ex.: Dittus–Boelter) conecta escoamento e propriedades a $q$ via $UA\\,\\Delta T_{lm}$.  \n",
    "- Em mudança de fase, soluções analíticas simples emergem: $T_{c,2} = T_{sat} - (T_{sat}-T_{c,1})e^{-UA/C_c}$.  \n",
    "- Condensadores reais pedem seções sensível+latente com alocação de $UA$.\n",
    "\n",
    "**Referências**  \n",
    "Incropera & DeWitt; Çengel & Ghajar; Kays & London (escoamentos internos); Notas do curso.\n"
   ]
  }
 ],
 "metadata": {
  "kernelspec": {
   "display_name": "Python [conda env:base] *",
   "language": "python",
   "name": "conda-base-py"
  },
  "language_info": {
   "codemirror_mode": {
    "name": "ipython",
    "version": 3
   },
   "file_extension": ".py",
   "mimetype": "text/x-python",
   "name": "python",
   "nbconvert_exporter": "python",
   "pygments_lexer": "ipython3",
   "version": "3.13.5"
  }
 },
 "nbformat": 4,
 "nbformat_minor": 5
}
